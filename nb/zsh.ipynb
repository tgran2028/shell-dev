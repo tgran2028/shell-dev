{
 "cells": [
  {
   "cell_type": "code",
   "execution_count": 1,
   "metadata": {
    "vscode": {
     "languageId": "shellscript"
    }
   },
   "outputs": [
    {
     "name": "stdout",
     "output_type": "stream",
     "text": [
      "\u001b[38;5;4m\u001b[1md\u001b[0m\u001b[38;5;2mr\u001b[39m\u001b[38;5;3mw\u001b[39m\u001b[38;5;1mx\u001b[39m\u001b[38;5;2mr\u001b[39m\u001b[38;5;3mw\u001b[39m\u001b[38;5;1mx\u001b[39m\u001b[38;5;2mr\u001b[39m\u001b[38;5;245m-\u001b[39m\u001b[38;5;1mx\u001b[39m\u001b[38;5;6m\u001b[39m \u001b[38;5;230mtim\u001b[39m \u001b[38;5;187mtim\u001b[39m \u001b[38;5;229m4.0\u001b[39m \u001b[38;5;229mKB\u001b[39m \u001b[38;5;40mTue Oct  1 14:20:42 2024\u001b[39m \u001b[38;5;4m\u001b[1m .\u001b[0m\n",
      "\u001b[38;5;4m\u001b[1md\u001b[0m\u001b[38;5;2mr\u001b[39m\u001b[38;5;3mw\u001b[39m\u001b[38;5;1mx\u001b[39m\u001b[38;5;2mr\u001b[39m\u001b[38;5;245m-\u001b[39m\u001b[38;5;1mx\u001b[39m\u001b[38;5;245m-\u001b[39m\u001b[38;5;245m-\u001b[39m\u001b[38;5;245m-\u001b[39m\u001b[38;5;6m\u001b[39m \u001b[38;5;230mtim\u001b[39m \u001b[38;5;187mtim\u001b[39m \u001b[38;5;229m4.0\u001b[39m \u001b[38;5;229mKB\u001b[39m \u001b[38;5;40mTue Oct  1 14:18:21 2024\u001b[39m \u001b[38;5;4m\u001b[1m ..\u001b[0m\n",
      "\u001b[38;5;2m\u001b[1m.\u001b[0m\u001b[38;5;2mr\u001b[39m\u001b[38;5;3mw\u001b[39m\u001b[38;5;1mx\u001b[39m\u001b[38;5;2mr\u001b[39m\u001b[38;5;3mw\u001b[39m\u001b[38;5;1mx\u001b[39m\u001b[38;5;2mr\u001b[39m\u001b[38;5;245m-\u001b[39m\u001b[38;5;1mx\u001b[39m\u001b[38;5;6m\u001b[39m \u001b[38;5;230mtim\u001b[39m \u001b[38;5;187mtim\u001b[39m \u001b[38;5;229m1.3\u001b[39m \u001b[38;5;229mKB\u001b[39m \u001b[38;5;36mWed Sep 18 14:33:54 2024\u001b[39m \u001b[38;5;2m\u001b[1m activate_pyenv.sh\u001b[0m\n",
      "\u001b[38;5;2m\u001b[1m.\u001b[0m\u001b[38;5;2mr\u001b[39m\u001b[38;5;3mw\u001b[39m\u001b[38;5;1mx\u001b[39m\u001b[38;5;2mr\u001b[39m\u001b[38;5;3mw\u001b[39m\u001b[38;5;1mx\u001b[39m\u001b[38;5;2mr\u001b[39m\u001b[38;5;245m-\u001b[39m\u001b[38;5;1mx\u001b[39m\u001b[38;5;6m\u001b[39m \u001b[38;5;230mtim\u001b[39m \u001b[38;5;187mtim\u001b[39m \u001b[38;5;229m3.2\u001b[39m \u001b[38;5;229mKB\u001b[39m \u001b[38;5;36mThu Sep 19 13:53:34 2024\u001b[39m \u001b[38;5;2m\u001b[1m addpath.sh\u001b[0m\n",
      "\u001b[38;5;4m\u001b[1md\u001b[0m\u001b[38;5;2mr\u001b[39m\u001b[38;5;3mw\u001b[39m\u001b[38;5;1mx\u001b[39m\u001b[38;5;2mr\u001b[39m\u001b[38;5;3mw\u001b[39m\u001b[38;5;1mx\u001b[39m\u001b[38;5;2mr\u001b[39m\u001b[38;5;245m-\u001b[39m\u001b[38;5;1mx\u001b[39m\u001b[38;5;6m\u001b[39m \u001b[38;5;230mtim\u001b[39m \u001b[38;5;187mtim\u001b[39m \u001b[38;5;229m4.0\u001b[39m \u001b[38;5;229mKB\u001b[39m \u001b[38;5;36mWed Sep 25 00:36:05 2024\u001b[39m \u001b[38;5;4m\u001b[1m apt\u001b[0m\n",
      "\u001b[38;5;2m\u001b[1m.\u001b[0m\u001b[38;5;2mr\u001b[39m\u001b[38;5;3mw\u001b[39m\u001b[38;5;1mx\u001b[39m\u001b[38;5;2mr\u001b[39m\u001b[38;5;3mw\u001b[39m\u001b[38;5;1mx\u001b[39m\u001b[38;5;2mr\u001b[39m\u001b[38;5;245m-\u001b[39m\u001b[38;5;1mx\u001b[39m\u001b[38;5;6m\u001b[39m \u001b[38;5;230mtim\u001b[39m \u001b[38;5;187mtim\u001b[39m \u001b[38;5;229m153\u001b[39m \u001b[38;5;229mB\u001b[39m  \u001b[38;5;36mTue Sep 24 11:53:06 2024\u001b[39m \u001b[38;5;2m\u001b[1m apt_search.sh\u001b[0m\n",
      "\u001b[38;5;4m\u001b[1md\u001b[0m\u001b[38;5;2mr\u001b[39m\u001b[38;5;3mw\u001b[39m\u001b[38;5;1mx\u001b[39m\u001b[38;5;2mr\u001b[39m\u001b[38;5;3mw\u001b[39m\u001b[38;5;1mx\u001b[39m\u001b[38;5;2mr\u001b[39m\u001b[38;5;245m-\u001b[39m\u001b[38;5;1mx\u001b[39m\u001b[38;5;6m\u001b[39m \u001b[38;5;230mtim\u001b[39m \u001b[38;5;187mtim\u001b[39m \u001b[38;5;229m4.0\u001b[39m \u001b[38;5;229mKB\u001b[39m \u001b[38;5;36mTue Sep 24 20:20:46 2024\u001b[39m \u001b[38;5;4m\u001b[1m bin\u001b[0m\n",
      "\u001b[38;5;2m\u001b[1m.\u001b[0m\u001b[38;5;2mr\u001b[39m\u001b[38;5;3mw\u001b[39m\u001b[38;5;1mx\u001b[39m\u001b[38;5;2mr\u001b[39m\u001b[38;5;3mw\u001b[39m\u001b[38;5;1mx\u001b[39m\u001b[38;5;2mr\u001b[39m\u001b[38;5;245m-\u001b[39m\u001b[38;5;1mx\u001b[39m\u001b[38;5;6m\u001b[39m \u001b[38;5;230mtim\u001b[39m \u001b[38;5;187mtim\u001b[39m \u001b[38;5;229m1.4\u001b[39m \u001b[38;5;229mKB\u001b[39m \u001b[38;5;36mThu Sep 19 12:00:23 2024\u001b[39m \u001b[38;5;2m\u001b[1m convert_snippets.sh\u001b[0m\n",
      ".\u001b[38;5;2mr\u001b[39m\u001b[38;5;3mw\u001b[39m\u001b[38;5;245m-\u001b[39m\u001b[38;5;2mr\u001b[39m\u001b[38;5;3mw\u001b[39m\u001b[38;5;245m-\u001b[39m\u001b[38;5;2mr\u001b[39m\u001b[38;5;245m-\u001b[39m\u001b[38;5;245m-\u001b[39m\u001b[38;5;6m\u001b[39m \u001b[38;5;230mtim\u001b[39m \u001b[38;5;187mtim\u001b[39m \u001b[38;5;229m1.9\u001b[39m \u001b[38;5;229mKB\u001b[39m \u001b[38;5;36mWed Sep 25 04:10:44 2024\u001b[39m  dman\n",
      "\u001b[38;5;2m\u001b[1m.\u001b[0m\u001b[38;5;2mr\u001b[39m\u001b[38;5;3mw\u001b[39m\u001b[38;5;1mx\u001b[39m\u001b[38;5;2mr\u001b[39m\u001b[38;5;3mw\u001b[39m\u001b[38;5;1mx\u001b[39m\u001b[38;5;2mr\u001b[39m\u001b[38;5;245m-\u001b[39m\u001b[38;5;1mx\u001b[39m\u001b[38;5;6m\u001b[39m \u001b[38;5;230mtim\u001b[39m \u001b[38;5;187mtim\u001b[39m \u001b[38;5;229m8.0\u001b[39m \u001b[38;5;229mKB\u001b[39m \u001b[38;5;36mThu Sep 19 17:13:49 2024\u001b[39m \u001b[38;5;2m\u001b[1m get_gh_file.sh\u001b[0m\n",
      "\u001b[38;5;2m\u001b[1m.\u001b[0m\u001b[38;5;2mr\u001b[39m\u001b[38;5;3mw\u001b[39m\u001b[38;5;1mx\u001b[39m\u001b[38;5;2mr\u001b[39m\u001b[38;5;3mw\u001b[39m\u001b[38;5;1mx\u001b[39m\u001b[38;5;2mr\u001b[39m\u001b[38;5;245m-\u001b[39m\u001b[38;5;1mx\u001b[39m\u001b[38;5;6m\u001b[39m \u001b[38;5;230mtim\u001b[39m \u001b[38;5;187mtim\u001b[39m \u001b[38;5;229m1.3\u001b[39m \u001b[38;5;229mKB\u001b[39m \u001b[38;5;36mWed Sep 18 16:11:42 2024\u001b[39m \u001b[38;5;2m\u001b[1m in_path.sh\u001b[0m\n",
      "\u001b[38;5;2m\u001b[1m.\u001b[0m\u001b[38;5;2mr\u001b[39m\u001b[38;5;3mw\u001b[39m\u001b[38;5;1mx\u001b[39m\u001b[38;5;2mr\u001b[39m\u001b[38;5;3mw\u001b[39m\u001b[38;5;1mx\u001b[39m\u001b[38;5;2mr\u001b[39m\u001b[38;5;245m-\u001b[39m\u001b[38;5;1mx\u001b[39m\u001b[38;5;6m\u001b[39m \u001b[38;5;230mtim\u001b[39m \u001b[38;5;187mtim\u001b[39m \u001b[38;5;229m4.2\u001b[39m \u001b[38;5;229mKB\u001b[39m \u001b[38;5;36mSat Sep 21 01:36:15 2024\u001b[39m \u001b[38;5;2m\u001b[1m save_shell_completion.sh\u001b[0m\n",
      "\u001b[38;5;4m\u001b[1md\u001b[0m\u001b[38;5;2mr\u001b[39m\u001b[38;5;3mw\u001b[39m\u001b[38;5;1mx\u001b[39m\u001b[38;5;2mr\u001b[39m\u001b[38;5;3mw\u001b[39m\u001b[38;5;1mx\u001b[39m\u001b[38;5;2mr\u001b[39m\u001b[38;5;245m-\u001b[39m\u001b[38;5;1mx\u001b[39m\u001b[38;5;6m\u001b[39m \u001b[38;5;230mtim\u001b[39m \u001b[38;5;187mtim\u001b[39m \u001b[38;5;229m4.0\u001b[39m \u001b[38;5;229mKB\u001b[39m \u001b[38;5;36mWed Sep 18 15:48:48 2024\u001b[39m \u001b[38;5;4m\u001b[1m styleguides\u001b[0m\n",
      ".\u001b[38;5;2mr\u001b[39m\u001b[38;5;3mw\u001b[39m\u001b[38;5;245m-\u001b[39m\u001b[38;5;2mr\u001b[39m\u001b[38;5;3mw\u001b[39m\u001b[38;5;245m-\u001b[39m\u001b[38;5;2mr\u001b[39m\u001b[38;5;245m-\u001b[39m\u001b[38;5;245m-\u001b[39m\u001b[38;5;6m\u001b[39m \u001b[38;5;230mtim\u001b[39m \u001b[38;5;187mtim\u001b[39m \u001b[38;5;229m1.3\u001b[39m \u001b[38;5;229mKB\u001b[39m \u001b[38;5;40mTue Oct  1 14:20:58 2024\u001b[39m  zsh.ipynb\n",
      "\u001b[38;5;4m\u001b[1md\u001b[0m\u001b[38;5;2mr\u001b[39m\u001b[38;5;3mw\u001b[39m\u001b[38;5;1mx\u001b[39m\u001b[38;5;2mr\u001b[39m\u001b[38;5;245m-\u001b[39m\u001b[38;5;1mx\u001b[39m\u001b[38;5;245m-\u001b[39m\u001b[38;5;245m-\u001b[39m\u001b[38;5;245m-\u001b[39m\u001b[38;5;6m\u001b[39m \u001b[38;5;230mtim\u001b[39m \u001b[38;5;187mtim\u001b[39m \u001b[38;5;229m4.0\u001b[39m \u001b[38;5;229mKB\u001b[39m \u001b[38;5;40mTue Oct  1 14:18:21 2024\u001b[39m \u001b[38;5;4m\u001b[1m ..\u001b[0m\n",
      "\u001b[38;5;2m\u001b[1m.\u001b[0m\u001b[38;5;2mr\u001b[39m\u001b[38;5;3mw\u001b[39m\u001b[38;5;1mx\u001b[39m\u001b[38;5;2mr\u001b[39m\u001b[38;5;3mw\u001b[39m\u001b[38;5;1mx\u001b[39m\u001b[38;5;2mr\u001b[39m\u001b[38;5;245m-\u001b[39m\u001b[38;5;1mx\u001b[39m\u001b[38;5;6m\u001b[39m \u001b[38;5;230mtim\u001b[39m \u001b[38;5;187mtim\u001b[39m \u001b[38;5;229m1.3\u001b[39m \u001b[38;5;229mKB\u001b[39m \u001b[38;5;36mWed Sep 18 14:33:54 2024\u001b[39m \u001b[38;5;2m\u001b[1m activate_pyenv.sh\u001b[0m\n",
      "\u001b[38;5;2m\u001b[1m.\u001b[0m\u001b[38;5;2mr\u001b[39m\u001b[38;5;3mw\u001b[39m\u001b[38;5;1mx\u001b[39m\u001b[38;5;2mr\u001b[39m\u001b[38;5;3mw\u001b[39m\u001b[38;5;1mx\u001b[39m\u001b[38;5;2mr\u001b[39m\u001b[38;5;245m-\u001b[39m\u001b[38;5;1mx\u001b[39m\u001b[38;5;6m\u001b[39m \u001b[38;5;230mtim\u001b[39m \u001b[38;5;187mtim\u001b[39m \u001b[38;5;229m3.2\u001b[39m \u001b[38;5;229mKB\u001b[39m \u001b[38;5;36mThu Sep 19 13:53:34 2024\u001b[39m \u001b[38;5;2m\u001b[1m addpath.sh\u001b[0m\n",
      "\u001b[38;5;4m\u001b[1md\u001b[0m\u001b[38;5;2mr\u001b[39m\u001b[38;5;3mw\u001b[39m\u001b[38;5;1mx\u001b[39m\u001b[38;5;2mr\u001b[39m\u001b[38;5;3mw\u001b[39m\u001b[38;5;1mx\u001b[39m\u001b[38;5;2mr\u001b[39m\u001b[38;5;245m-\u001b[39m\u001b[38;5;1mx\u001b[39m\u001b[38;5;6m\u001b[39m \u001b[38;5;230mtim\u001b[39m \u001b[38;5;187mtim\u001b[39m \u001b[38;5;229m4.0\u001b[39m \u001b[38;5;229mKB\u001b[39m \u001b[38;5;36mWed Sep 25 00:36:05 2024\u001b[39m \u001b[38;5;4m\u001b[1m apt\u001b[0m\n",
      "\u001b[38;5;2m\u001b[1m.\u001b[0m\u001b[38;5;2mr\u001b[39m\u001b[38;5;3mw\u001b[39m\u001b[38;5;1mx\u001b[39m\u001b[38;5;2mr\u001b[39m\u001b[38;5;3mw\u001b[39m\u001b[38;5;1mx\u001b[39m\u001b[38;5;2mr\u001b[39m\u001b[38;5;245m-\u001b[39m\u001b[38;5;1mx\u001b[39m\u001b[38;5;6m\u001b[39m \u001b[38;5;230mtim\u001b[39m \u001b[38;5;187mtim\u001b[39m \u001b[38;5;229m153\u001b[39m \u001b[38;5;229mB\u001b[39m  \u001b[38;5;36mTue Sep 24 11:53:06 2024\u001b[39m \u001b[38;5;2m\u001b[1m apt_search.sh\u001b[0m\n",
      "\u001b[38;5;4m\u001b[1md\u001b[0m\u001b[38;5;2mr\u001b[39m\u001b[38;5;3mw\u001b[39m\u001b[38;5;1mx\u001b[39m\u001b[38;5;2mr\u001b[39m\u001b[38;5;3mw\u001b[39m\u001b[38;5;1mx\u001b[39m\u001b[38;5;2mr\u001b[39m\u001b[38;5;245m-\u001b[39m\u001b[38;5;1mx\u001b[39m\u001b[38;5;6m\u001b[39m \u001b[38;5;230mtim\u001b[39m \u001b[38;5;187mtim\u001b[39m \u001b[38;5;229m4.0\u001b[39m \u001b[38;5;229mKB\u001b[39m \u001b[38;5;36mTue Sep 24 20:20:46 2024\u001b[39m \u001b[38;5;4m\u001b[1m bin\u001b[0m\n",
      "\u001b[38;5;2m\u001b[1m.\u001b[0m\u001b[38;5;2mr\u001b[39m\u001b[38;5;3mw\u001b[39m\u001b[38;5;1mx\u001b[39m\u001b[38;5;2mr\u001b[39m\u001b[38;5;3mw\u001b[39m\u001b[38;5;1mx\u001b[39m\u001b[38;5;2mr\u001b[39m\u001b[38;5;245m-\u001b[39m\u001b[38;5;1mx\u001b[39m\u001b[38;5;6m\u001b[39m \u001b[38;5;230mtim\u001b[39m \u001b[38;5;187mtim\u001b[39m \u001b[38;5;229m1.4\u001b[39m \u001b[38;5;229mKB\u001b[39m \u001b[38;5;36mThu Sep 19 12:00:23 2024\u001b[39m \u001b[38;5;2m\u001b[1m convert_snippets.sh\u001b[0m\n",
      ".\u001b[38;5;2mr\u001b[39m\u001b[38;5;3mw\u001b[39m\u001b[38;5;245m-\u001b[39m\u001b[38;5;2mr\u001b[39m\u001b[38;5;3mw\u001b[39m\u001b[38;5;245m-\u001b[39m\u001b[38;5;2mr\u001b[39m\u001b[38;5;245m-\u001b[39m\u001b[38;5;245m-\u001b[39m\u001b[38;5;6m\u001b[39m \u001b[38;5;230mtim\u001b[39m \u001b[38;5;187mtim\u001b[39m \u001b[38;5;229m1.9\u001b[39m \u001b[38;5;229mKB\u001b[39m \u001b[38;5;36mWed Sep 25 04:10:44 2024\u001b[39m  dman\n",
      "\u001b[38;5;2m\u001b[1m.\u001b[0m\u001b[38;5;2mr\u001b[39m\u001b[38;5;3mw\u001b[39m\u001b[38;5;1mx\u001b[39m\u001b[38;5;2mr\u001b[39m\u001b[38;5;3mw\u001b[39m\u001b[38;5;1mx\u001b[39m\u001b[38;5;2mr\u001b[39m\u001b[38;5;245m-\u001b[39m\u001b[38;5;1mx\u001b[39m\u001b[38;5;6m\u001b[39m \u001b[38;5;230mtim\u001b[39m \u001b[38;5;187mtim\u001b[39m \u001b[38;5;229m8.0\u001b[39m \u001b[38;5;229mKB\u001b[39m \u001b[38;5;36mThu Sep 19 17:13:49 2024\u001b[39m \u001b[38;5;2m\u001b[1m get_gh_file.sh\u001b[0m\n",
      "\u001b[38;5;2m\u001b[1m.\u001b[0m\u001b[38;5;2mr\u001b[39m\u001b[38;5;3mw\u001b[39m\u001b[38;5;1mx\u001b[39m\u001b[38;5;2mr\u001b[39m\u001b[38;5;3mw\u001b[39m\u001b[38;5;1mx\u001b[39m\u001b[38;5;2mr\u001b[39m\u001b[38;5;245m-\u001b[39m\u001b[38;5;1mx\u001b[39m\u001b[38;5;6m\u001b[39m \u001b[38;5;230mtim\u001b[39m \u001b[38;5;187mtim\u001b[39m \u001b[38;5;229m1.3\u001b[39m \u001b[38;5;229mKB\u001b[39m \u001b[38;5;36mWed Sep 18 16:11:42 2024\u001b[39m \u001b[38;5;2m\u001b[1m in_path.sh\u001b[0m\n",
      "\u001b[38;5;2m\u001b[1m.\u001b[0m\u001b[38;5;2mr\u001b[39m\u001b[38;5;3mw\u001b[39m\u001b[38;5;1mx\u001b[39m\u001b[38;5;2mr\u001b[39m\u001b[38;5;3mw\u001b[39m\u001b[38;5;1mx\u001b[39m\u001b[38;5;2mr\u001b[39m\u001b[38;5;245m-\u001b[39m\u001b[38;5;1mx\u001b[39m\u001b[38;5;6m\u001b[39m \u001b[38;5;230mtim\u001b[39m \u001b[38;5;187mtim\u001b[39m \u001b[38;5;229m4.2\u001b[39m \u001b[38;5;229mKB\u001b[39m \u001b[38;5;36mSat Sep 21 01:36:15 2024\u001b[39m \u001b[38;5;2m\u001b[1m save_shell_completion.sh\u001b[0m\n",
      "\u001b[38;5;4m\u001b[1md\u001b[0m\u001b[38;5;2mr\u001b[39m\u001b[38;5;3mw\u001b[39m\u001b[38;5;1mx\u001b[39m\u001b[38;5;2mr\u001b[39m\u001b[38;5;3mw\u001b[39m\u001b[38;5;1mx\u001b[39m\u001b[38;5;2mr\u001b[39m\u001b[38;5;245m-\u001b[39m\u001b[38;5;1mx\u001b[39m\u001b[38;5;6m\u001b[39m \u001b[38;5;230mtim\u001b[39m \u001b[38;5;187mtim\u001b[39m \u001b[38;5;229m4.0\u001b[39m \u001b[38;5;229mKB\u001b[39m \u001b[38;5;36mWed Sep 18 15:48:48 2024\u001b[39m \u001b[38;5;4m\u001b[1m styleguides\u001b[0m\n",
      ".\u001b[38;5;2mr\u001b[39m\u001b[38;5;3mw\u001b[39m\u001b[38;5;245m-\u001b[39m\u001b[38;5;2mr\u001b[39m\u001b[38;5;3mw\u001b[39m\u001b[38;5;245m-\u001b[39m\u001b[38;5;2mr\u001b[39m\u001b[38;5;245m-\u001b[39m\u001b[38;5;245m-\u001b[39m\u001b[38;5;6m\u001b[39m \u001b[38;5;230mtim\u001b[39m \u001b[38;5;187mtim\u001b[39m \u001b[38;5;229m1.3\u001b[39m \u001b[38;5;229mKB\u001b[39m \u001b[38;5;40mTue Oct  1 14:20:58 2024\u001b[39m  zsh.ipynb\n"
     ]
    }
   ],
   "source": [
    "#!/usr/bin/zsh \n",
    "\n",
    "cd ~/.shell\n",
    "\n",
    "lsd -la \n"
   ]
  },
  {
   "cell_type": "code",
   "execution_count": 3,
   "metadata": {
    "vscode": {
     "languageId": "shellscript"
    }
   },
   "outputs": [
    {
     "name": "stdout",
     "output_type": "stream",
     "text": [
      "/tmp/user/1000/tmp.jVqJCJL2f8.zsh\n"
     ]
    }
   ],
   "source": [
    "cmd='echo \"${0:A:h}\"'\n",
    "\n",
    "tmpf=\"$(mktemp --suffix .zsh)\"\n",
    "cat << EOF | tee $tmpf > /dev/null\n",
    "#!/usr/bin/zsh\n",
    "\n",
    "$cmd\n",
    "\n",
    "EOF\n",
    "\n",
    "chmod +x \"$tmpf\"\n",
    "echo \"$tmpf\"\n"
   ]
  },
  {
   "cell_type": "code",
   "execution_count": 5,
   "metadata": {
    "vscode": {
     "languageId": "shellscript"
    }
   },
   "outputs": [
    {
     "name": "stdout",
     "output_type": "stream",
     "text": [
      "/tmp/user/1000/tmp.jVqJCJL2f8.zsh\n",
      "/tmp/user/1000\n",
      "/tmp/user/1000\n"
     ]
    }
   ],
   "source": [
    "/tmp/user/1000/tmp.jVqJCJL2f8.zsh\n"
   ]
  }
 ],
 "metadata": {
  "kernelspec": {
   "display_name": "Z shell",
   "language": "zsh",
   "name": "zsh"
  },
  "language_info": {
   "codemirror_mode": "shell",
   "file_extension": ".zsh",
   "mimetype": "text/x-zsh",
   "name": "zsh",
   "pygments_lexer": "shell",
   "version": "5.7.1"
  }
 },
 "nbformat": 4,
 "nbformat_minor": 2
}
