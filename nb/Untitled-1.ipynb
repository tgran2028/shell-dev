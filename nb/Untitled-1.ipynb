{
 "cells": [
  {
   "cell_type": "code",
   "execution_count": 25,
   "metadata": {
    "vscode": {
     "languageId": "shellscript"
    }
   },
   "outputs": [
    {
     "name": "stdout",
     "output_type": "stream",
     "text": [
      "1/2/3/4/5\n"
     ]
    }
   ],
   "source": [
    "arr=( \"1\" \"2\" \"3\" \"4\" \"5\" )\n",
    "\n",
    "func() {\n",
    "    # test $@ commands\n",
    "    shift\n",
    "    (IFS=:;echo ${*:2})\n",
    "}\n",
    "\n",
    "# combine arr with : using IFS\n",
    "(IFS=/;echo \"${arr[*]}\")"
   ]
  },
  {
   "cell_type": "code",
   "execution_count": null,
   "metadata": {
    "vscode": {
     "languageId": "shellscript"
    }
   },
   "outputs": [],
   "source": [
    "#     ep=\"repos/$repo/contents/$(echo $2 |sed 's|^/||; s|/$||')\"\n",
    "#   else\n",
    "#     ep=\"repos/$repo/contents\"\n",
    "#   fi\n",
    "#   echo \"GET $ep\"\n",
    "# #   NO_COLOR=1 gh api \"${ep%/}\" --cache 5m | jq  -M '.'\n",
    "# }"
   ]
  },
  {
   "cell_type": "code",
   "execution_count": null,
   "metadata": {
    "vscode": {
     "languageId": "shellscript"
    }
   },
   "outputs": [
    {
     "name": "stdout",
     "output_type": "stream",
     "text": [
      "bash: sed: No such file or directory\n"
     ]
    },
    {
     "ename": "",
     "evalue": "127",
     "output_type": "error",
     "traceback": []
    }
   ],
   "source": [
    "#!/usr/bin/bash\n",
    "\n",
    "set +x\n",
    "\n",
    "REPO=microsoft/vscode-docs\n",
    "\n",
    "get_repo_contents() {\n",
    "  local repo=\"$1\"\n",
    "  \n",
    "  local ep=\"repos/$repo/contents\"\n",
    "  if [[ $# -gt 1 ]]; then\n",
    "    ep=\"$ep/$(IFS=/; echo \"${*:2}\")\"\n",
    "  fi\n",
    "  ep=\"$(echo \"$ep\" | sed -e 's/^\\/\\+//; s/\\/\\+$//; s/\\/\\/\\//\\//g')\"\n",
    "\n",
    "  NO_COLOR=1 GH_PAGER=cat gh api \"$ep\" --cache 5m\n",
    "}\n",
    "\n",
    "\n",
    "o=\"$(get_repo_contents $REPO /README.md | sed -e 's/\\/\\///' -e 's/^\\/\\+//' -e 's/\\/\\+$//')\"\n"
   ]
  },
  {
   "cell_type": "code",
   "execution_count": 18,
   "metadata": {
    "vscode": {
     "languageId": "shellscript"
    }
   },
   "outputs": [
    {
     "name": "stdout",
     "output_type": "stream",
     "text": [
      "bash: which: No such file or directory\n"
     ]
    },
    {
     "ename": "",
     "evalue": "127",
     "output_type": "error",
     "traceback": []
    }
   ],
   "source": [
    "which sed "
   ]
  }
 ],
 "metadata": {
  "kernelspec": {
   "display_name": "Bash",
   "language": "bash",
   "name": "bash"
  },
  "language_info": {
   "codemirror_mode": "shell",
   "file_extension": ".sh",
   "mimetype": "text/x-sh",
   "name": "bash"
  }
 },
 "nbformat": 4,
 "nbformat_minor": 2
}
