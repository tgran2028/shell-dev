{
 "cells": [
  {
   "cell_type": "code",
   "execution_count": 4,
   "id": "19fd5a4a",
   "metadata": {
    "tags": [
     "environment",
     "config"
    ],
    "vscode": {
     "languageId": "shellscript"
    }
   },
   "outputs": [],
   "source": [
    "# environment for nb\n",
    "export PAGER=bat\n",
    "export MANPAGER=\"sh -c 'sed -u -e \\\"s/\\\\x1B\\[[0-9;]*m//g; s/.\\\\x08//g\\\" | bat -p -lman -P --plain'\"\n",
    "export BAT_PAGING=never \n",
    "export BAT_STYLE=plain\n",
    "export BAT_THEME=OneHalfDark\n",
    "\n",
    "if [[ -n \"$VSCODE_PID\" ]]; then\n",
    "    # use current vscode command for EDITOR and VISUAL\n",
    "    # remove leading/trailing whitespace\n",
    "    export EDITOR=$(ps -p $VSCODE_PID -o comm --no-headers | sed 's/^[[[:space:]]*//;s/[[[:space:]]]*$//')\n",
    "    export VISUAL=$EDITOR\n",
    "fi\n",
    "# set cwd to vscode workspace if it exists\n",
    "# [[ -n $VSCODE_CWD ]] && cd \"$VSCODE_CWD\"\n"
   ]
  },
  {
   "cell_type": "markdown",
   "id": "33aa629d",
   "metadata": {},
   "source": [
    "# Notebook\n",
    "\n",
    "Obectives\n"
   ]
  },
  {
   "cell_type": "code",
   "execution_count": null,
   "id": "f41011ad",
   "metadata": {
    "vscode": {
     "languageId": "shellscript"
    }
   },
   "outputs": [],
   "source": [
    "#!/usr/bin/env bash\n",
    "\n",
    "\n",
    "# remove color codes from text\n",
    "# Usage: result=$(uncolor \"$result\")\n",
    "decolor() {\n",
    "  if [ -z \"$1\" ] && [ ! -t 0 ]; then\n",
    "    # no parameters but STDIN pipe is given\n",
    "    \n",
    "    sed 's/\\x1B\\[[0-9;]*[a-zA-Z]//g;s/\\x1B\\x28\\x42//g' </dev/stdin\n",
    "  else\n",
    "    # use parameters\n",
    "    sed 's/\\x1B\\[[0-9;]*[a-zA-Z]//g;s/\\x1B\\x28\\x42//g' <<< \"$@\"\n",
    "    # use hexdump -C ore cat -A to debug output\n",
    "  fi\n",
    "}\n"
   ]
  }
 ],
 "metadata": {
  "kernelspec": {
   "display_name": "Bash",
   "language": "bash",
   "name": "bash"
  },
  "language_info": {
   "codemirror_mode": "shell",
   "file_extension": ".sh",
   "mimetype": "text/x-sh",
   "name": "bash"
  },
  "orig_nbformat": 4,
  "title": "Bash Notebook Template"
 },
 "nbformat": 4,
 "nbformat_minor": 5
}
