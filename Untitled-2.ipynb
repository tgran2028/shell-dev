{
 "cells": [
  {
   "cell_type": "code",
   "execution_count": 6,
   "metadata": {
    "vscode": {
     "languageId": "shellscript"
    }
   },
   "outputs": [
    {
     "name": "stdout",
     "output_type": "stream",
     "text": [
      "https://manpages.ubuntu.com/manpages/noble/en/man1/zsh-static.1.html\n",
      "https://manpages.ubuntu.com/manpages/noble/en/man1/zsh.1.html\n",
      "https://manpages.ubuntu.com/manpages/noble/en/man1/zshall.1.html\n",
      "https://manpages.ubuntu.com/manpages/noble/en/man1/zshbuiltins.1.html\n",
      "https://manpages.ubuntu.com/manpages/noble/en/man1/zshcalsys.1.html\n",
      "https://manpages.ubuntu.com/manpages/noble/en/man1/zshcompctl.1.html\n",
      "https://manpages.ubuntu.com/manpages/noble/en/man1/zshcompsys.1.html\n",
      "https://manpages.ubuntu.com/manpages/noble/en/man1/zshcompwid.1.html\n",
      "https://manpages.ubuntu.com/manpages/noble/en/man1/zshcontrib.1.html\n",
      "https://manpages.ubuntu.com/manpages/noble/en/man1/zshexpn.1.html\n",
      "https://manpages.ubuntu.com/manpages/noble/en/man1/zshmisc.1.html\n",
      "https://manpages.ubuntu.com/manpages/noble/en/man1/zshmodules.1.html\n",
      "https://manpages.ubuntu.com/manpages/noble/en/man1/zshoptions.1.html\n",
      "https://manpages.ubuntu.com/manpages/noble/en/man1/zshparam.1.html\n",
      "https://manpages.ubuntu.com/manpages/noble/en/man1/zshroadmap.1.html\n",
      "https://manpages.ubuntu.com/manpages/noble/en/man1/zshtcpsys.1.html\n",
      "https://manpages.ubuntu.com/manpages/noble/en/man1/zshzftpsys.1.html\n",
      "https://manpages.ubuntu.com/manpages/noble/en/man1/zshzle.1.html\n"
     ]
    }
   ],
   "source": [
    "#!/usr/bin/env bash\n",
    "\n",
    "base_url='https://manpages.ubuntu.com'\n",
    "dist='noble'\n",
    "lang='en'\n",
    "i=1\n",
    "doc_type=html #> html or gz\n",
    "\n",
    "[[ $doc_type == 'gz' ]] && manpages='manpages.gz' || manpages='manpages'\n",
    "\n",
    "declare -a source_urls\n",
    "source_urls=(\n",
    "    \"${base_url}/${manpages}/${dist}/${lang}/man${i}/zsh-static.${i}.${doc_type}\"\n",
    "    \"${base_url}/${manpages}/${dist}/${lang}/man${i}/zsh.${i}.${doc_type}\"\n",
    "    \"${base_url}/${manpages}/${dist}/${lang}/man${i}/zshall.${i}.${doc_type}\"\n",
    "    \"${base_url}/${manpages}/${dist}/${lang}/man${i}/zshbuiltins.${i}.${doc_type}\"\n",
    "    \"${base_url}/${manpages}/${dist}/${lang}/man${i}/zshcalsys.${i}.${doc_type}\"\n",
    "    \"${base_url}/${manpages}/${dist}/${lang}/man${i}/zshcompctl.${i}.${doc_type}\"\n",
    "    \"${base_url}/${manpages}/${dist}/${lang}/man${i}/zshcompsys.${i}.${doc_type}\"\n",
    "    \"${base_url}/${manpages}/${dist}/${lang}/man${i}/zshcompwid.${i}.${doc_type}\"\n",
    "    \"${base_url}/${manpages}/${dist}/${lang}/man${i}/zshcontrib.${i}.${doc_type}\"\n",
    "    \"${base_url}/${manpages}/${dist}/${lang}/man${i}/zshexpn.${i}.${doc_type}\"\n",
    "    \"${base_url}/${manpages}/${dist}/${lang}/man${i}/zshmisc.${i}.${doc_type}\"\n",
    "    \"${base_url}/${manpages}/${dist}/${lang}/man${i}/zshmodules.${i}.${doc_type}\"\n",
    "    \"${base_url}/${manpages}/${dist}/${lang}/man${i}/zshoptions.${i}.${doc_type}\"\n",
    "    \"${base_url}/${manpages}/${dist}/${lang}/man${i}/zshparam.${i}.${doc_type}\"\n",
    "    \"${base_url}/${manpages}/${dist}/${lang}/man${i}/zshroadmap.${i}.${doc_type}\"\n",
    "    \"${base_url}/${manpages}/${dist}/${lang}/man${i}/zshtcpsys.${i}.${doc_type}\"\n",
    "    \"${base_url}/${manpages}/${dist}/${lang}/man${i}/zshzftpsys.${i}.${doc_type}\"\n",
    "    \"${base_url}/${manpages}/${dist}/${lang}/man${i}/zshzle.${i}.${doc_type}\"\n",
    ")\n",
    "\n",
    "echo \"${source_urls[@]}\" | tr ' ' '\\n'"
   ]
  },
  {
   "cell_type": "code",
   "execution_count": 7,
   "metadata": {
    "vscode": {
     "languageId": "shellscript"
    }
   },
   "outputs": [],
   "source": [
    "# test response code\n",
    "url=https://manpages.ubuntu.com/manpages/noble/en/man1/zsh.1.html\n",
    "curl -s -o /dev/null -w \"%{http_code}\" \"$url\" | grep -q 200\n"
   ]
  },
  {
   "cell_type": "code",
   "execution_count": null,
   "metadata": {
    "vscode": {
     "languageId": "shellscript"
    }
   },
   "outputs": [],
   "source": [
    "#!/usr/bin/env bash\n",
    "\n",
    "# create a function based of this command: google-chrome-beta --headless --window-size=1920,1080 --run-all-compositor-stages-before-draw --virtual-time-budget=9000 --incognito --dump-dom 'https://github.com' 2>/dev/null\n",
    "chrome_headless() {\n",
    "    local url=\"$1\"\n",
    "\n",
    "    # -i,--incognito\n",
    "    \n",
    "\n",
    "\n",
    "\n",
    "    google-chrome-beta --headless --window-size=1920,1080 --run-all-compositor-stages-before-draw --virtual-time-budget=9000 --incognito --dump-dom \"$url\" 2>/dev/null\n",
    "}\n"
   ]
  }
 ],
 "metadata": {
  "kernelspec": {
   "display_name": "Bash",
   "language": "bash",
   "name": "bash"
  },
  "language_info": {
   "codemirror_mode": "shell",
   "file_extension": ".sh",
   "mimetype": "text/x-sh",
   "name": "bash"
  }
 },
 "nbformat": 4,
 "nbformat_minor": 2
}
